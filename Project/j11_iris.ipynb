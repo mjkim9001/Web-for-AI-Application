{
 "cells": [
  {
   "cell_type": "markdown",
   "metadata": {},
   "source": [
    "# Iris 분류"
   ]
  },
  {
   "cell_type": "markdown",
   "metadata": {},
   "source": [
    "### Logistic Regression"
   ]
  },
  {
   "cell_type": "code",
   "execution_count": 1,
   "metadata": {},
   "outputs": [],
   "source": [
    "import numpy as np\n",
    "import pandas as pd\n",
    "import warnings\n",
    "warnings.filterwarnings('ignore')"
   ]
  },
  {
   "cell_type": "code",
   "execution_count": 2,
   "metadata": {},
   "outputs": [],
   "source": [
    "from sklearn.datasets import load_iris\n",
    "iris = load_iris()"
   ]
  },
  {
   "cell_type": "code",
   "execution_count": 3,
   "metadata": {},
   "outputs": [
    {
     "data": {
      "text/html": [
       "<div>\n",
       "<style scoped>\n",
       "    .dataframe tbody tr th:only-of-type {\n",
       "        vertical-align: middle;\n",
       "    }\n",
       "\n",
       "    .dataframe tbody tr th {\n",
       "        vertical-align: top;\n",
       "    }\n",
       "\n",
       "    .dataframe thead th {\n",
       "        text-align: right;\n",
       "    }\n",
       "</style>\n",
       "<table border=\"1\" class=\"dataframe\">\n",
       "  <thead>\n",
       "    <tr style=\"text-align: right;\">\n",
       "      <th></th>\n",
       "      <th>sepal length (cm)</th>\n",
       "      <th>sepal width (cm)</th>\n",
       "      <th>petal length (cm)</th>\n",
       "      <th>petal width (cm)</th>\n",
       "    </tr>\n",
       "  </thead>\n",
       "  <tbody>\n",
       "    <tr>\n",
       "      <th>0</th>\n",
       "      <td>5.1</td>\n",
       "      <td>3.5</td>\n",
       "      <td>1.4</td>\n",
       "      <td>0.2</td>\n",
       "    </tr>\n",
       "    <tr>\n",
       "      <th>1</th>\n",
       "      <td>4.9</td>\n",
       "      <td>3.0</td>\n",
       "      <td>1.4</td>\n",
       "      <td>0.2</td>\n",
       "    </tr>\n",
       "    <tr>\n",
       "      <th>2</th>\n",
       "      <td>4.7</td>\n",
       "      <td>3.2</td>\n",
       "      <td>1.3</td>\n",
       "      <td>0.2</td>\n",
       "    </tr>\n",
       "    <tr>\n",
       "      <th>3</th>\n",
       "      <td>4.6</td>\n",
       "      <td>3.1</td>\n",
       "      <td>1.5</td>\n",
       "      <td>0.2</td>\n",
       "    </tr>\n",
       "    <tr>\n",
       "      <th>4</th>\n",
       "      <td>5.0</td>\n",
       "      <td>3.6</td>\n",
       "      <td>1.4</td>\n",
       "      <td>0.2</td>\n",
       "    </tr>\n",
       "  </tbody>\n",
       "</table>\n",
       "</div>"
      ],
      "text/plain": [
       "   sepal length (cm)  sepal width (cm)  petal length (cm)  petal width (cm)\n",
       "0                5.1               3.5                1.4               0.2\n",
       "1                4.9               3.0                1.4               0.2\n",
       "2                4.7               3.2                1.3               0.2\n",
       "3                4.6               3.1                1.5               0.2\n",
       "4                5.0               3.6                1.4               0.2"
      ]
     },
     "execution_count": 3,
     "metadata": {},
     "output_type": "execute_result"
    }
   ],
   "source": [
    "# data, target, target_names, feature_names, DESCR\n",
    "data = iris.data\n",
    "label = iris.target\n",
    "columns = iris.feature_names\n",
    "df = pd.DataFrame(data, columns=columns)\n",
    "df.head()"
   ]
  },
  {
   "cell_type": "code",
   "execution_count": 4,
   "metadata": {},
   "outputs": [],
   "source": [
    "from sklearn.model_selection import train_test_split\n",
    "x_train, x_test, y_train, y_test = \\\n",
    "    train_test_split(data, label, test_size=0.2, \n",
    "                     shuffle=True, stratify=label, random_state=2019)"
   ]
  },
  {
   "cell_type": "markdown",
   "metadata": {},
   "source": [
    "* 모델 객체 생성"
   ]
  },
  {
   "cell_type": "code",
   "execution_count": 5,
   "metadata": {},
   "outputs": [],
   "source": [
    "from sklearn.linear_model import LogisticRegression\n",
    "lr = LogisticRegression()"
   ]
  },
  {
   "cell_type": "markdown",
   "metadata": {},
   "source": [
    "* 모델 학습"
   ]
  },
  {
   "cell_type": "code",
   "execution_count": 6,
   "metadata": {},
   "outputs": [
    {
     "data": {
      "text/plain": [
       "LogisticRegression()"
      ]
     },
     "execution_count": 6,
     "metadata": {},
     "output_type": "execute_result"
    }
   ],
   "source": [
    "lr.fit(x_train, y_train)"
   ]
  },
  {
   "cell_type": "markdown",
   "metadata": {},
   "source": [
    "* 학습한 결과를 저장"
   ]
  },
  {
   "cell_type": "code",
   "execution_count": 7,
   "metadata": {},
   "outputs": [
    {
     "data": {
      "text/plain": [
       "['model/iris_lr.pkl']"
      ]
     },
     "execution_count": 7,
     "metadata": {},
     "output_type": "execute_result"
    }
   ],
   "source": [
    "import joblib\n",
    "joblib.dump(lr, 'model/iris_lr.pkl')"
   ]
  },
  {
   "cell_type": "markdown",
   "metadata": {},
   "source": [
    "### Support Vector Machine"
   ]
  },
  {
   "cell_type": "code",
   "execution_count": 8,
   "metadata": {},
   "outputs": [],
   "source": [
    "from sklearn.svm import SVC"
   ]
  },
  {
   "cell_type": "code",
   "execution_count": 9,
   "metadata": {},
   "outputs": [],
   "source": [
    "# 모델 객체 생성\n",
    "svc = SVC()"
   ]
  },
  {
   "cell_type": "code",
   "execution_count": 10,
   "metadata": {},
   "outputs": [
    {
     "data": {
      "text/plain": [
       "SVC()"
      ]
     },
     "execution_count": 10,
     "metadata": {},
     "output_type": "execute_result"
    }
   ],
   "source": [
    "# 학습\n",
    "svc.fit(x_train, y_train)"
   ]
  },
  {
   "cell_type": "code",
   "execution_count": 11,
   "metadata": {},
   "outputs": [
    {
     "data": {
      "text/plain": [
       "['model/iris_svm.pkl']"
      ]
     },
     "execution_count": 11,
     "metadata": {},
     "output_type": "execute_result"
    }
   ],
   "source": [
    "import joblib\n",
    "joblib.dump(lr, 'model/iris_svm.pkl')"
   ]
  },
  {
   "cell_type": "markdown",
   "metadata": {},
   "source": [
    "### Decision Tree"
   ]
  },
  {
   "cell_type": "code",
   "execution_count": 12,
   "metadata": {},
   "outputs": [],
   "source": [
    "from sklearn.tree import DecisionTreeClassifier"
   ]
  },
  {
   "cell_type": "code",
   "execution_count": 13,
   "metadata": {},
   "outputs": [],
   "source": [
    "dtc = DecisionTreeClassifier()"
   ]
  },
  {
   "cell_type": "code",
   "execution_count": 14,
   "metadata": {},
   "outputs": [
    {
     "data": {
      "text/plain": [
       "DecisionTreeClassifier()"
      ]
     },
     "execution_count": 14,
     "metadata": {},
     "output_type": "execute_result"
    }
   ],
   "source": [
    "dtc.fit(x_train, y_train)"
   ]
  },
  {
   "cell_type": "code",
   "execution_count": 15,
   "metadata": {},
   "outputs": [
    {
     "data": {
      "text/plain": [
       "['model/iris_dt.pkl']"
      ]
     },
     "execution_count": 15,
     "metadata": {},
     "output_type": "execute_result"
    }
   ],
   "source": [
    "import joblib\n",
    "joblib.dump(lr, 'model/iris_dt.pkl')"
   ]
  },
  {
   "cell_type": "markdown",
   "metadata": {},
   "source": [
    "### 저장된 모델로 정확도 산출"
   ]
  },
  {
   "cell_type": "code",
   "execution_count": 16,
   "metadata": {},
   "outputs": [],
   "source": [
    "model_lr = joblib.load('model/iris_lr.pkl')\n",
    "model_svm = joblib.load('model/iris_svm.pkl')\n",
    "model_dt = joblib.load('model/iris_dt.pkl')"
   ]
  },
  {
   "cell_type": "code",
   "execution_count": 17,
   "metadata": {},
   "outputs": [],
   "source": [
    "y_pred_lr = model_lr.predict(x_test)\n",
    "y_pred_svm = model_svm.predict(x_test)\n",
    "y_pred_dt = model_dt.predict(x_test)"
   ]
  },
  {
   "cell_type": "code",
   "execution_count": 18,
   "metadata": {},
   "outputs": [
    {
     "name": "stdout",
     "output_type": "stream",
     "text": [
      "0.9666666666666667 0.9666666666666667 0.9666666666666667\n"
     ]
    }
   ],
   "source": [
    "from sklearn.metrics import accuracy_score\n",
    "acc_lr = accuracy_score(y_test, y_pred_lr)\n",
    "acc_svm = accuracy_score(y_test, y_pred_svm)\n",
    "acc_dt = accuracy_score(y_test, y_pred_dt)\n",
    "print(acc_lr, acc_svm, acc_dt)"
   ]
  },
  {
   "cell_type": "markdown",
   "metadata": {},
   "source": [
    "### 한개의 테스트 값 예측"
   ]
  },
  {
   "cell_type": "code",
   "execution_count": 19,
   "metadata": {},
   "outputs": [
    {
     "data": {
      "text/html": [
       "<div>\n",
       "<style scoped>\n",
       "    .dataframe tbody tr th:only-of-type {\n",
       "        vertical-align: middle;\n",
       "    }\n",
       "\n",
       "    .dataframe tbody tr th {\n",
       "        vertical-align: top;\n",
       "    }\n",
       "\n",
       "    .dataframe thead th {\n",
       "        text-align: right;\n",
       "    }\n",
       "</style>\n",
       "<table border=\"1\" class=\"dataframe\">\n",
       "  <thead>\n",
       "    <tr style=\"text-align: right;\">\n",
       "      <th></th>\n",
       "      <th>sepal length (cm)</th>\n",
       "      <th>sepal width (cm)</th>\n",
       "      <th>petal length (cm)</th>\n",
       "      <th>petal width (cm)</th>\n",
       "    </tr>\n",
       "  </thead>\n",
       "  <tbody>\n",
       "    <tr>\n",
       "      <th>145</th>\n",
       "      <td>6.7</td>\n",
       "      <td>3.0</td>\n",
       "      <td>5.2</td>\n",
       "      <td>2.3</td>\n",
       "    </tr>\n",
       "    <tr>\n",
       "      <th>146</th>\n",
       "      <td>6.3</td>\n",
       "      <td>2.5</td>\n",
       "      <td>5.0</td>\n",
       "      <td>1.9</td>\n",
       "    </tr>\n",
       "    <tr>\n",
       "      <th>147</th>\n",
       "      <td>6.5</td>\n",
       "      <td>3.0</td>\n",
       "      <td>5.2</td>\n",
       "      <td>2.0</td>\n",
       "    </tr>\n",
       "    <tr>\n",
       "      <th>148</th>\n",
       "      <td>6.2</td>\n",
       "      <td>3.4</td>\n",
       "      <td>5.4</td>\n",
       "      <td>2.3</td>\n",
       "    </tr>\n",
       "    <tr>\n",
       "      <th>149</th>\n",
       "      <td>5.9</td>\n",
       "      <td>3.0</td>\n",
       "      <td>5.1</td>\n",
       "      <td>1.8</td>\n",
       "    </tr>\n",
       "  </tbody>\n",
       "</table>\n",
       "</div>"
      ],
      "text/plain": [
       "     sepal length (cm)  sepal width (cm)  petal length (cm)  petal width (cm)\n",
       "145                6.7               3.0                5.2               2.3\n",
       "146                6.3               2.5                5.0               1.9\n",
       "147                6.5               3.0                5.2               2.0\n",
       "148                6.2               3.4                5.4               2.3\n",
       "149                5.9               3.0                5.1               1.8"
      ]
     },
     "execution_count": 19,
     "metadata": {},
     "output_type": "execute_result"
    }
   ],
   "source": [
    "df.tail()"
   ]
  },
  {
   "cell_type": "code",
   "execution_count": 20,
   "metadata": {},
   "outputs": [],
   "source": [
    "test_data = np.array([6.7, 3.0, 5.2, 2.3]).reshape(1, 4)"
   ]
  },
  {
   "cell_type": "code",
   "execution_count": 21,
   "metadata": {},
   "outputs": [],
   "source": [
    "index_lr = model_lr.predict(test_data)[0]\n",
    "index_svm = model_svm.predict(test_data)[0]\n",
    "index_dt = model_dt.predict(test_data)[0]"
   ]
  },
  {
   "cell_type": "code",
   "execution_count": 22,
   "metadata": {},
   "outputs": [
    {
     "name": "stdout",
     "output_type": "stream",
     "text": [
      "Virginica Virginica Virginica\n"
     ]
    }
   ],
   "source": [
    "sp_names = ['Setosa', 'Versicolor', 'Virginica']\n",
    "print(sp_names[index_lr], sp_names[index_svm], sp_names[index_dt])"
   ]
  },
  {
   "cell_type": "markdown",
   "metadata": {},
   "source": [
    "### Deep learning model"
   ]
  },
  {
   "cell_type": "code",
   "execution_count": 32,
   "metadata": {},
   "outputs": [],
   "source": [
    "# 딥러닝 모델 설정\n",
    "from tensorflow import keras\n",
    "from keras.models import Sequential\n",
    "from keras.layers import Dense\n",
    "\n",
    "model = Sequential([\n",
    "    Dense(12, input_shape=(4,), activation='relu'),\n",
    "    Dense(8, input_shape=(4,), activation='relu'),\n",
    "    Dense(3, activation='softmax')\n",
    "])"
   ]
  },
  {
   "cell_type": "code",
   "execution_count": 34,
   "metadata": {},
   "outputs": [],
   "source": [
    "# 모델 컴파일\n",
    "model.compile(loss='categorical_crossentropy',\n",
    "             optimizer='adam',\n",
    "             metrics = ['accuracy'])"
   ]
  },
  {
   "cell_type": "code",
   "execution_count": 39,
   "metadata": {},
   "outputs": [],
   "source": [
    "from keras.callbacks import ModelCheckpoint\n",
    "checkpointer = ModelCheckpoint(filepath = 'model/iris_deep.hdf5',\n",
    "                            monitor ='val_loss',\n",
    "                            verbose = 1, save_best_only=True)"
   ]
  },
  {
   "cell_type": "code",
   "execution_count": 40,
   "metadata": {},
   "outputs": [
    {
     "data": {
      "text/plain": [
       "(array([1., 0., 0.], dtype=float32),\n",
       " array([0., 0., 1.], dtype=float32),\n",
       " array([0., 0., 1.], dtype=float32))"
      ]
     },
     "execution_count": 40,
     "metadata": {},
     "output_type": "execute_result"
    }
   ],
   "source": [
    "#one hot encoding\n",
    "Y_encoded = keras.utils.to_categorical(y_train)\n",
    "Y_encoded[0], Y_encoded[50], Y_encoded[100]"
   ]
  },
  {
   "cell_type": "code",
   "execution_count": 41,
   "metadata": {},
   "outputs": [
    {
     "name": "stdout",
     "output_type": "stream",
     "text": [
      "Train on 96 samples, validate on 24 samples\n",
      "Epoch 1/100\n",
      " - 0s - loss: 1.5315 - accuracy: 0.3125 - val_loss: 1.3570 - val_accuracy: 0.4167\n",
      "\n",
      "Epoch 00001: val_loss improved from inf to 1.35701, saving model to model/iris_deep.hdf5\n",
      "Epoch 2/100\n",
      " - 0s - loss: 1.4637 - accuracy: 0.3125 - val_loss: 1.3220 - val_accuracy: 0.4167\n",
      "\n",
      "Epoch 00002: val_loss improved from 1.35701 to 1.32198, saving model to model/iris_deep.hdf5\n",
      "Epoch 3/100\n",
      " - 0s - loss: 1.4081 - accuracy: 0.3021 - val_loss: 1.2906 - val_accuracy: 0.2500\n",
      "\n",
      "Epoch 00003: val_loss improved from 1.32198 to 1.29055, saving model to model/iris_deep.hdf5\n",
      "Epoch 4/100\n",
      " - 0s - loss: 1.3668 - accuracy: 0.2500 - val_loss: 1.2616 - val_accuracy: 0.1250\n",
      "\n",
      "Epoch 00004: val_loss improved from 1.29055 to 1.26164, saving model to model/iris_deep.hdf5\n",
      "Epoch 5/100\n",
      " - 0s - loss: 1.3185 - accuracy: 0.1458 - val_loss: 1.2352 - val_accuracy: 0.0417\n",
      "\n",
      "Epoch 00005: val_loss improved from 1.26164 to 1.23519, saving model to model/iris_deep.hdf5\n",
      "Epoch 6/100\n",
      " - 0s - loss: 1.2745 - accuracy: 0.0625 - val_loss: 1.2082 - val_accuracy: 0.0000e+00\n",
      "\n",
      "Epoch 00006: val_loss improved from 1.23519 to 1.20820, saving model to model/iris_deep.hdf5\n",
      "Epoch 7/100\n",
      " - 0s - loss: 1.2404 - accuracy: 0.0729 - val_loss: 1.1825 - val_accuracy: 0.0000e+00\n",
      "\n",
      "Epoch 00007: val_loss improved from 1.20820 to 1.18248, saving model to model/iris_deep.hdf5\n",
      "Epoch 8/100\n",
      " - 0s - loss: 1.2055 - accuracy: 0.1354 - val_loss: 1.1573 - val_accuracy: 0.1667\n",
      "\n",
      "Epoch 00008: val_loss improved from 1.18248 to 1.15731, saving model to model/iris_deep.hdf5\n",
      "Epoch 9/100\n",
      " - 0s - loss: 1.1705 - accuracy: 0.2292 - val_loss: 1.1321 - val_accuracy: 0.1667\n",
      "\n",
      "Epoch 00009: val_loss improved from 1.15731 to 1.13211, saving model to model/iris_deep.hdf5\n",
      "Epoch 10/100\n",
      " - 0s - loss: 1.1386 - accuracy: 0.2812 - val_loss: 1.1047 - val_accuracy: 0.2500\n",
      "\n",
      "Epoch 00010: val_loss improved from 1.13211 to 1.10467, saving model to model/iris_deep.hdf5\n",
      "Epoch 11/100\n",
      " - 0s - loss: 1.1082 - accuracy: 0.3125 - val_loss: 1.0772 - val_accuracy: 0.2917\n",
      "\n",
      "Epoch 00011: val_loss improved from 1.10467 to 1.07720, saving model to model/iris_deep.hdf5\n",
      "Epoch 12/100\n",
      " - 0s - loss: 1.0755 - accuracy: 0.3229 - val_loss: 1.0474 - val_accuracy: 0.2917\n",
      "\n",
      "Epoch 00012: val_loss improved from 1.07720 to 1.04744, saving model to model/iris_deep.hdf5\n",
      "Epoch 13/100\n",
      " - 0s - loss: 1.0452 - accuracy: 0.3229 - val_loss: 1.0181 - val_accuracy: 0.2917\n",
      "\n",
      "Epoch 00013: val_loss improved from 1.04744 to 1.01814, saving model to model/iris_deep.hdf5\n",
      "Epoch 14/100\n",
      " - 0s - loss: 1.0139 - accuracy: 0.3229 - val_loss: 0.9884 - val_accuracy: 0.2917\n",
      "\n",
      "Epoch 00014: val_loss improved from 1.01814 to 0.98838, saving model to model/iris_deep.hdf5\n",
      "Epoch 15/100\n",
      " - 0s - loss: 0.9823 - accuracy: 0.3229 - val_loss: 0.9581 - val_accuracy: 0.2917\n",
      "\n",
      "Epoch 00015: val_loss improved from 0.98838 to 0.95811, saving model to model/iris_deep.hdf5\n",
      "Epoch 16/100\n",
      " - 0s - loss: 0.9530 - accuracy: 0.3125 - val_loss: 0.9277 - val_accuracy: 0.2917\n",
      "\n",
      "Epoch 00016: val_loss improved from 0.95811 to 0.92772, saving model to model/iris_deep.hdf5\n",
      "Epoch 17/100\n",
      " - 0s - loss: 0.9232 - accuracy: 0.3021 - val_loss: 0.8980 - val_accuracy: 0.2083\n",
      "\n",
      "Epoch 00017: val_loss improved from 0.92772 to 0.89804, saving model to model/iris_deep.hdf5\n",
      "Epoch 18/100\n",
      " - 0s - loss: 0.8945 - accuracy: 0.2604 - val_loss: 0.8704 - val_accuracy: 0.1667\n",
      "\n",
      "Epoch 00018: val_loss improved from 0.89804 to 0.87042, saving model to model/iris_deep.hdf5\n",
      "Epoch 19/100\n",
      " - 0s - loss: 0.8679 - accuracy: 0.2292 - val_loss: 0.8446 - val_accuracy: 0.1667\n",
      "\n",
      "Epoch 00019: val_loss improved from 0.87042 to 0.84463, saving model to model/iris_deep.hdf5\n",
      "Epoch 20/100\n",
      " - 0s - loss: 0.8420 - accuracy: 0.3958 - val_loss: 0.8187 - val_accuracy: 0.3750\n",
      "\n",
      "Epoch 00020: val_loss improved from 0.84463 to 0.81872, saving model to model/iris_deep.hdf5\n",
      "Epoch 21/100\n",
      " - 0s - loss: 0.8155 - accuracy: 0.5833 - val_loss: 0.7943 - val_accuracy: 0.5000\n",
      "\n",
      "Epoch 00021: val_loss improved from 0.81872 to 0.79435, saving model to model/iris_deep.hdf5\n",
      "Epoch 22/100\n",
      " - 0s - loss: 0.7905 - accuracy: 0.6562 - val_loss: 0.7708 - val_accuracy: 0.5417\n",
      "\n",
      "Epoch 00022: val_loss improved from 0.79435 to 0.77077, saving model to model/iris_deep.hdf5\n",
      "Epoch 23/100\n",
      " - 0s - loss: 0.7656 - accuracy: 0.6354 - val_loss: 0.7481 - val_accuracy: 0.6667\n",
      "\n",
      "Epoch 00023: val_loss improved from 0.77077 to 0.74806, saving model to model/iris_deep.hdf5\n",
      "Epoch 24/100\n",
      " - 0s - loss: 0.7444 - accuracy: 0.6667 - val_loss: 0.7265 - val_accuracy: 0.7083\n",
      "\n",
      "Epoch 00024: val_loss improved from 0.74806 to 0.72647, saving model to model/iris_deep.hdf5\n",
      "Epoch 25/100\n",
      " - 0s - loss: 0.7222 - accuracy: 0.6458 - val_loss: 0.7073 - val_accuracy: 0.7083\n",
      "\n",
      "Epoch 00025: val_loss improved from 0.72647 to 0.70729, saving model to model/iris_deep.hdf5\n",
      "Epoch 26/100\n",
      " - 0s - loss: 0.7017 - accuracy: 0.6875 - val_loss: 0.6886 - val_accuracy: 0.7083\n",
      "\n",
      "Epoch 00026: val_loss improved from 0.70729 to 0.68855, saving model to model/iris_deep.hdf5\n",
      "Epoch 27/100\n",
      " - 0s - loss: 0.6839 - accuracy: 0.6771 - val_loss: 0.6706 - val_accuracy: 0.7083\n",
      "\n",
      "Epoch 00027: val_loss improved from 0.68855 to 0.67058, saving model to model/iris_deep.hdf5\n",
      "Epoch 28/100\n",
      " - 0s - loss: 0.6661 - accuracy: 0.6771 - val_loss: 0.6537 - val_accuracy: 0.7083\n",
      "\n",
      "Epoch 00028: val_loss improved from 0.67058 to 0.65370, saving model to model/iris_deep.hdf5\n",
      "Epoch 29/100\n",
      " - 0s - loss: 0.6499 - accuracy: 0.6771 - val_loss: 0.6386 - val_accuracy: 0.7083\n",
      "\n",
      "Epoch 00029: val_loss improved from 0.65370 to 0.63859, saving model to model/iris_deep.hdf5\n",
      "Epoch 30/100\n",
      " - 0s - loss: 0.6341 - accuracy: 0.6875 - val_loss: 0.6239 - val_accuracy: 0.7083\n",
      "\n",
      "Epoch 00030: val_loss improved from 0.63859 to 0.62387, saving model to model/iris_deep.hdf5\n",
      "Epoch 31/100\n",
      " - 0s - loss: 0.6197 - accuracy: 0.7083 - val_loss: 0.6106 - val_accuracy: 0.7500\n",
      "\n",
      "Epoch 00031: val_loss improved from 0.62387 to 0.61056, saving model to model/iris_deep.hdf5\n",
      "Epoch 32/100\n",
      " - 0s - loss: 0.6053 - accuracy: 0.7292 - val_loss: 0.5987 - val_accuracy: 0.8333\n",
      "\n",
      "Epoch 00032: val_loss improved from 0.61056 to 0.59869, saving model to model/iris_deep.hdf5\n",
      "Epoch 33/100\n",
      " - 0s - loss: 0.5918 - accuracy: 0.7812 - val_loss: 0.5877 - val_accuracy: 0.8333\n",
      "\n",
      "Epoch 00033: val_loss improved from 0.59869 to 0.58774, saving model to model/iris_deep.hdf5\n",
      "Epoch 34/100\n",
      " - 0s - loss: 0.5790 - accuracy: 0.8958 - val_loss: 0.5778 - val_accuracy: 0.8750\n",
      "\n",
      "Epoch 00034: val_loss improved from 0.58774 to 0.57785, saving model to model/iris_deep.hdf5\n",
      "Epoch 35/100\n",
      " - 0s - loss: 0.5656 - accuracy: 0.9271 - val_loss: 0.5650 - val_accuracy: 0.8750\n",
      "\n",
      "Epoch 00035: val_loss improved from 0.57785 to 0.56499, saving model to model/iris_deep.hdf5\n",
      "Epoch 36/100\n",
      " - 0s - loss: 0.5531 - accuracy: 0.9167 - val_loss: 0.5520 - val_accuracy: 0.9167\n",
      "\n",
      "Epoch 00036: val_loss improved from 0.56499 to 0.55201, saving model to model/iris_deep.hdf5\n",
      "Epoch 37/100\n",
      " - 0s - loss: 0.5417 - accuracy: 0.9167 - val_loss: 0.5417 - val_accuracy: 0.9167\n",
      "\n",
      "Epoch 00037: val_loss improved from 0.55201 to 0.54167, saving model to model/iris_deep.hdf5\n",
      "Epoch 38/100\n",
      " - 0s - loss: 0.5314 - accuracy: 0.9062 - val_loss: 0.5329 - val_accuracy: 0.9167\n",
      "\n",
      "Epoch 00038: val_loss improved from 0.54167 to 0.53290, saving model to model/iris_deep.hdf5\n",
      "Epoch 39/100\n",
      " - 0s - loss: 0.5220 - accuracy: 0.9375 - val_loss: 0.5250 - val_accuracy: 0.9167\n",
      "\n",
      "Epoch 00039: val_loss improved from 0.53290 to 0.52496, saving model to model/iris_deep.hdf5\n",
      "Epoch 40/100\n",
      " - 0s - loss: 0.5136 - accuracy: 0.9479 - val_loss: 0.5180 - val_accuracy: 1.0000\n",
      "\n",
      "Epoch 00040: val_loss improved from 0.52496 to 0.51802, saving model to model/iris_deep.hdf5\n",
      "Epoch 41/100\n",
      " - 0s - loss: 0.5056 - accuracy: 0.9479 - val_loss: 0.5098 - val_accuracy: 0.9583\n",
      "\n",
      "Epoch 00041: val_loss improved from 0.51802 to 0.50985, saving model to model/iris_deep.hdf5\n",
      "Epoch 42/100\n",
      " - 0s - loss: 0.4985 - accuracy: 0.9479 - val_loss: 0.5016 - val_accuracy: 0.9167\n",
      "\n",
      "Epoch 00042: val_loss improved from 0.50985 to 0.50161, saving model to model/iris_deep.hdf5\n",
      "Epoch 43/100\n",
      " - 0s - loss: 0.4920 - accuracy: 0.9167 - val_loss: 0.4934 - val_accuracy: 0.9167\n",
      "\n",
      "Epoch 00043: val_loss improved from 0.50161 to 0.49344, saving model to model/iris_deep.hdf5\n",
      "Epoch 44/100\n",
      " - 0s - loss: 0.4865 - accuracy: 0.8854 - val_loss: 0.4869 - val_accuracy: 0.9167\n"
     ]
    },
    {
     "name": "stdout",
     "output_type": "stream",
     "text": [
      "\n",
      "Epoch 00044: val_loss improved from 0.49344 to 0.48693, saving model to model/iris_deep.hdf5\n",
      "Epoch 45/100\n",
      " - 0s - loss: 0.4802 - accuracy: 0.8958 - val_loss: 0.4806 - val_accuracy: 0.9167\n",
      "\n",
      "Epoch 00045: val_loss improved from 0.48693 to 0.48063, saving model to model/iris_deep.hdf5\n",
      "Epoch 46/100\n",
      " - 0s - loss: 0.4742 - accuracy: 0.9375 - val_loss: 0.4746 - val_accuracy: 0.9167\n",
      "\n",
      "Epoch 00046: val_loss improved from 0.48063 to 0.47460, saving model to model/iris_deep.hdf5\n",
      "Epoch 47/100\n",
      " - 0s - loss: 0.4685 - accuracy: 0.9375 - val_loss: 0.4684 - val_accuracy: 0.9167\n",
      "\n",
      "Epoch 00047: val_loss improved from 0.47460 to 0.46844, saving model to model/iris_deep.hdf5\n",
      "Epoch 48/100\n",
      " - 0s - loss: 0.4633 - accuracy: 0.9375 - val_loss: 0.4625 - val_accuracy: 0.9167\n",
      "\n",
      "Epoch 00048: val_loss improved from 0.46844 to 0.46252, saving model to model/iris_deep.hdf5\n",
      "Epoch 49/100\n",
      " - 0s - loss: 0.4581 - accuracy: 0.9479 - val_loss: 0.4574 - val_accuracy: 0.9583\n",
      "\n",
      "Epoch 00049: val_loss improved from 0.46252 to 0.45736, saving model to model/iris_deep.hdf5\n",
      "Epoch 50/100\n",
      " - 0s - loss: 0.4533 - accuracy: 0.9479 - val_loss: 0.4528 - val_accuracy: 1.0000\n",
      "\n",
      "Epoch 00050: val_loss improved from 0.45736 to 0.45279, saving model to model/iris_deep.hdf5\n",
      "Epoch 51/100\n",
      " - 0s - loss: 0.4482 - accuracy: 0.9583 - val_loss: 0.4471 - val_accuracy: 1.0000\n",
      "\n",
      "Epoch 00051: val_loss improved from 0.45279 to 0.44707, saving model to model/iris_deep.hdf5\n",
      "Epoch 52/100\n",
      " - 0s - loss: 0.4437 - accuracy: 0.9479 - val_loss: 0.4420 - val_accuracy: 0.9583\n",
      "\n",
      "Epoch 00052: val_loss improved from 0.44707 to 0.44197, saving model to model/iris_deep.hdf5\n",
      "Epoch 53/100\n",
      " - 0s - loss: 0.4393 - accuracy: 0.9479 - val_loss: 0.4368 - val_accuracy: 0.9167\n",
      "\n",
      "Epoch 00053: val_loss improved from 0.44197 to 0.43684, saving model to model/iris_deep.hdf5\n",
      "Epoch 54/100\n",
      " - 0s - loss: 0.4351 - accuracy: 0.9271 - val_loss: 0.4318 - val_accuracy: 0.9167\n",
      "\n",
      "Epoch 00054: val_loss improved from 0.43684 to 0.43180, saving model to model/iris_deep.hdf5\n",
      "Epoch 55/100\n",
      " - 0s - loss: 0.4316 - accuracy: 0.9062 - val_loss: 0.4272 - val_accuracy: 0.9167\n",
      "\n",
      "Epoch 00055: val_loss improved from 0.43180 to 0.42723, saving model to model/iris_deep.hdf5\n",
      "Epoch 56/100\n",
      " - 0s - loss: 0.4275 - accuracy: 0.9271 - val_loss: 0.4239 - val_accuracy: 1.0000\n",
      "\n",
      "Epoch 00056: val_loss improved from 0.42723 to 0.42391, saving model to model/iris_deep.hdf5\n",
      "Epoch 57/100\n",
      " - 0s - loss: 0.4230 - accuracy: 0.9479 - val_loss: 0.4209 - val_accuracy: 1.0000\n",
      "\n",
      "Epoch 00057: val_loss improved from 0.42391 to 0.42085, saving model to model/iris_deep.hdf5\n",
      "Epoch 58/100\n",
      " - 0s - loss: 0.4195 - accuracy: 0.9688 - val_loss: 0.4186 - val_accuracy: 1.0000\n",
      "\n",
      "Epoch 00058: val_loss improved from 0.42085 to 0.41864, saving model to model/iris_deep.hdf5\n",
      "Epoch 59/100\n",
      " - 0s - loss: 0.4152 - accuracy: 0.9688 - val_loss: 0.4143 - val_accuracy: 1.0000\n",
      "\n",
      "Epoch 00059: val_loss improved from 0.41864 to 0.41431, saving model to model/iris_deep.hdf5\n",
      "Epoch 60/100\n",
      " - 0s - loss: 0.4115 - accuracy: 0.9583 - val_loss: 0.4096 - val_accuracy: 1.0000\n",
      "\n",
      "Epoch 00060: val_loss improved from 0.41431 to 0.40959, saving model to model/iris_deep.hdf5\n",
      "Epoch 61/100\n",
      " - 0s - loss: 0.4077 - accuracy: 0.9583 - val_loss: 0.4050 - val_accuracy: 1.0000\n",
      "\n",
      "Epoch 00061: val_loss improved from 0.40959 to 0.40503, saving model to model/iris_deep.hdf5\n",
      "Epoch 62/100\n",
      " - 0s - loss: 0.4049 - accuracy: 0.9583 - val_loss: 0.4009 - val_accuracy: 1.0000\n",
      "\n",
      "Epoch 00062: val_loss improved from 0.40503 to 0.40092, saving model to model/iris_deep.hdf5\n",
      "Epoch 63/100\n",
      " - 0s - loss: 0.4011 - accuracy: 0.9583 - val_loss: 0.3997 - val_accuracy: 0.9583\n",
      "\n",
      "Epoch 00063: val_loss improved from 0.40092 to 0.39975, saving model to model/iris_deep.hdf5\n",
      "Epoch 64/100\n",
      " - 0s - loss: 0.3974 - accuracy: 0.9688 - val_loss: 0.3966 - val_accuracy: 0.9583\n",
      "\n",
      "Epoch 00064: val_loss improved from 0.39975 to 0.39663, saving model to model/iris_deep.hdf5\n",
      "Epoch 65/100\n",
      " - 0s - loss: 0.3940 - accuracy: 0.9688 - val_loss: 0.3925 - val_accuracy: 0.9583\n",
      "\n",
      "Epoch 00065: val_loss improved from 0.39663 to 0.39245, saving model to model/iris_deep.hdf5\n",
      "Epoch 66/100\n",
      " - 0s - loss: 0.3918 - accuracy: 0.9583 - val_loss: 0.3897 - val_accuracy: 0.9583\n",
      "\n",
      "Epoch 00066: val_loss improved from 0.39245 to 0.38975, saving model to model/iris_deep.hdf5\n",
      "Epoch 67/100\n",
      " - 0s - loss: 0.3871 - accuracy: 0.9583 - val_loss: 0.3847 - val_accuracy: 1.0000\n",
      "\n",
      "Epoch 00067: val_loss improved from 0.38975 to 0.38465, saving model to model/iris_deep.hdf5\n",
      "Epoch 68/100\n",
      " - 0s - loss: 0.3846 - accuracy: 0.9583 - val_loss: 0.3794 - val_accuracy: 1.0000\n",
      "\n",
      "Epoch 00068: val_loss improved from 0.38465 to 0.37944, saving model to model/iris_deep.hdf5\n",
      "Epoch 69/100\n",
      " - 0s - loss: 0.3814 - accuracy: 0.9583 - val_loss: 0.3760 - val_accuracy: 1.0000\n",
      "\n",
      "Epoch 00069: val_loss improved from 0.37944 to 0.37600, saving model to model/iris_deep.hdf5\n",
      "Epoch 70/100\n",
      " - 0s - loss: 0.3782 - accuracy: 0.9583 - val_loss: 0.3732 - val_accuracy: 1.0000\n",
      "\n",
      "Epoch 00070: val_loss improved from 0.37600 to 0.37321, saving model to model/iris_deep.hdf5\n",
      "Epoch 71/100\n",
      " - 0s - loss: 0.3746 - accuracy: 0.9583 - val_loss: 0.3714 - val_accuracy: 1.0000\n",
      "\n",
      "Epoch 00071: val_loss improved from 0.37321 to 0.37135, saving model to model/iris_deep.hdf5\n",
      "Epoch 72/100\n",
      " - 0s - loss: 0.3721 - accuracy: 0.9688 - val_loss: 0.3692 - val_accuracy: 0.9583\n",
      "\n",
      "Epoch 00072: val_loss improved from 0.37135 to 0.36918, saving model to model/iris_deep.hdf5\n",
      "Epoch 73/100\n",
      " - 0s - loss: 0.3698 - accuracy: 0.9583 - val_loss: 0.3678 - val_accuracy: 0.9583\n",
      "\n",
      "Epoch 00073: val_loss improved from 0.36918 to 0.36781, saving model to model/iris_deep.hdf5\n",
      "Epoch 74/100\n",
      " - 0s - loss: 0.3671 - accuracy: 0.9583 - val_loss: 0.3656 - val_accuracy: 0.9583\n",
      "\n",
      "Epoch 00074: val_loss improved from 0.36781 to 0.36558, saving model to model/iris_deep.hdf5\n",
      "Epoch 75/100\n",
      " - 0s - loss: 0.3640 - accuracy: 0.9583 - val_loss: 0.3623 - val_accuracy: 0.9583\n",
      "\n",
      "Epoch 00075: val_loss improved from 0.36558 to 0.36235, saving model to model/iris_deep.hdf5\n",
      "Epoch 76/100\n",
      " - 0s - loss: 0.3614 - accuracy: 0.9583 - val_loss: 0.3585 - val_accuracy: 0.9583\n",
      "\n",
      "Epoch 00076: val_loss improved from 0.36235 to 0.35852, saving model to model/iris_deep.hdf5\n",
      "Epoch 77/100\n",
      " - 0s - loss: 0.3579 - accuracy: 0.9583 - val_loss: 0.3531 - val_accuracy: 0.9583\n",
      "\n",
      "Epoch 00077: val_loss improved from 0.35852 to 0.35314, saving model to model/iris_deep.hdf5\n",
      "Epoch 78/100\n",
      " - 0s - loss: 0.3568 - accuracy: 0.9583 - val_loss: 0.3473 - val_accuracy: 1.0000\n",
      "\n",
      "Epoch 00078: val_loss improved from 0.35314 to 0.34735, saving model to model/iris_deep.hdf5\n",
      "Epoch 79/100\n",
      " - 0s - loss: 0.3530 - accuracy: 0.9583 - val_loss: 0.3445 - val_accuracy: 1.0000\n",
      "\n",
      "Epoch 00079: val_loss improved from 0.34735 to 0.34453, saving model to model/iris_deep.hdf5\n",
      "Epoch 80/100\n",
      " - 0s - loss: 0.3502 - accuracy: 0.9583 - val_loss: 0.3417 - val_accuracy: 1.0000\n",
      "\n",
      "Epoch 00080: val_loss improved from 0.34453 to 0.34174, saving model to model/iris_deep.hdf5\n",
      "Epoch 81/100\n",
      " - 0s - loss: 0.3472 - accuracy: 0.9583 - val_loss: 0.3387 - val_accuracy: 1.0000\n",
      "\n",
      "Epoch 00081: val_loss improved from 0.34174 to 0.33867, saving model to model/iris_deep.hdf5\n",
      "Epoch 82/100\n",
      " - 0s - loss: 0.3446 - accuracy: 0.9583 - val_loss: 0.3357 - val_accuracy: 1.0000\n",
      "\n",
      "Epoch 00082: val_loss improved from 0.33867 to 0.33569, saving model to model/iris_deep.hdf5\n",
      "Epoch 83/100\n",
      " - 0s - loss: 0.3418 - accuracy: 0.9583 - val_loss: 0.3336 - val_accuracy: 1.0000\n",
      "\n",
      "Epoch 00083: val_loss improved from 0.33569 to 0.33358, saving model to model/iris_deep.hdf5\n",
      "Epoch 84/100\n",
      " - 0s - loss: 0.3401 - accuracy: 0.9583 - val_loss: 0.3317 - val_accuracy: 1.0000\n",
      "\n",
      "Epoch 00084: val_loss improved from 0.33358 to 0.33167, saving model to model/iris_deep.hdf5\n",
      "Epoch 85/100\n",
      " - 0s - loss: 0.3365 - accuracy: 0.9583 - val_loss: 0.3282 - val_accuracy: 1.0000\n",
      "\n",
      "Epoch 00085: val_loss improved from 0.33167 to 0.32823, saving model to model/iris_deep.hdf5\n",
      "Epoch 86/100\n",
      " - 0s - loss: 0.3341 - accuracy: 0.9583 - val_loss: 0.3260 - val_accuracy: 1.0000\n",
      "\n",
      "Epoch 00086: val_loss improved from 0.32823 to 0.32599, saving model to model/iris_deep.hdf5\n",
      "Epoch 87/100\n",
      " - 0s - loss: 0.3311 - accuracy: 0.9583 - val_loss: 0.3265 - val_accuracy: 0.9583\n",
      "\n",
      "Epoch 00087: val_loss did not improve from 0.32599\n",
      "Epoch 88/100\n",
      " - 0s - loss: 0.3296 - accuracy: 0.9583 - val_loss: 0.3261 - val_accuracy: 0.9583\n"
     ]
    },
    {
     "name": "stdout",
     "output_type": "stream",
     "text": [
      "\n",
      "Epoch 00088: val_loss did not improve from 0.32599\n",
      "Epoch 89/100\n",
      " - 0s - loss: 0.3275 - accuracy: 0.9583 - val_loss: 0.3216 - val_accuracy: 0.9583\n",
      "\n",
      "Epoch 00089: val_loss improved from 0.32599 to 0.32156, saving model to model/iris_deep.hdf5\n",
      "Epoch 90/100\n",
      " - 0s - loss: 0.3246 - accuracy: 0.9583 - val_loss: 0.3173 - val_accuracy: 0.9583\n",
      "\n",
      "Epoch 00090: val_loss improved from 0.32156 to 0.31735, saving model to model/iris_deep.hdf5\n",
      "Epoch 91/100\n",
      " - 0s - loss: 0.3220 - accuracy: 0.9583 - val_loss: 0.3131 - val_accuracy: 0.9583\n",
      "\n",
      "Epoch 00091: val_loss improved from 0.31735 to 0.31307, saving model to model/iris_deep.hdf5\n",
      "Epoch 92/100\n",
      " - 0s - loss: 0.3186 - accuracy: 0.9583 - val_loss: 0.3104 - val_accuracy: 0.9583\n",
      "\n",
      "Epoch 00092: val_loss improved from 0.31307 to 0.31036, saving model to model/iris_deep.hdf5\n",
      "Epoch 93/100\n",
      " - 0s - loss: 0.3167 - accuracy: 0.9583 - val_loss: 0.3064 - val_accuracy: 1.0000\n",
      "\n",
      "Epoch 00093: val_loss improved from 0.31036 to 0.30643, saving model to model/iris_deep.hdf5\n",
      "Epoch 94/100\n",
      " - 0s - loss: 0.3142 - accuracy: 0.9583 - val_loss: 0.3035 - val_accuracy: 1.0000\n",
      "\n",
      "Epoch 00094: val_loss improved from 0.30643 to 0.30347, saving model to model/iris_deep.hdf5\n",
      "Epoch 95/100\n",
      " - 0s - loss: 0.3111 - accuracy: 0.9688 - val_loss: 0.3019 - val_accuracy: 0.9583\n",
      "\n",
      "Epoch 00095: val_loss improved from 0.30347 to 0.30190, saving model to model/iris_deep.hdf5\n",
      "Epoch 96/100\n",
      " - 0s - loss: 0.3086 - accuracy: 0.9583 - val_loss: 0.3005 - val_accuracy: 0.9583\n",
      "\n",
      "Epoch 00096: val_loss improved from 0.30190 to 0.30047, saving model to model/iris_deep.hdf5\n",
      "Epoch 97/100\n",
      " - 0s - loss: 0.3068 - accuracy: 0.9583 - val_loss: 0.2989 - val_accuracy: 0.9583\n",
      "\n",
      "Epoch 00097: val_loss improved from 0.30047 to 0.29891, saving model to model/iris_deep.hdf5\n",
      "Epoch 98/100\n",
      " - 0s - loss: 0.3046 - accuracy: 0.9583 - val_loss: 0.2939 - val_accuracy: 0.9583\n",
      "\n",
      "Epoch 00098: val_loss improved from 0.29891 to 0.29392, saving model to model/iris_deep.hdf5\n",
      "Epoch 99/100\n",
      " - 0s - loss: 0.3013 - accuracy: 0.9583 - val_loss: 0.2899 - val_accuracy: 1.0000\n",
      "\n",
      "Epoch 00099: val_loss improved from 0.29392 to 0.28985, saving model to model/iris_deep.hdf5\n",
      "Epoch 100/100\n",
      " - 0s - loss: 0.2994 - accuracy: 0.9583 - val_loss: 0.2868 - val_accuracy: 1.0000\n",
      "\n",
      "Epoch 00100: val_loss improved from 0.28985 to 0.28683, saving model to model/iris_deep.hdf5\n"
     ]
    },
    {
     "data": {
      "text/plain": [
       "<keras.callbacks.callbacks.History at 0x23dda0a2248>"
      ]
     },
     "execution_count": 41,
     "metadata": {},
     "output_type": "execute_result"
    }
   ],
   "source": [
    "# 모델 생성\n",
    "model.fit(x_train, Y_encoded, epochs=100, batch_size=30, verbose=2,\n",
    "         validation_split=0.2, callbacks=[checkpointer])"
   ]
  },
  {
   "cell_type": "code",
   "execution_count": 42,
   "metadata": {},
   "outputs": [],
   "source": [
    "from keras.models import load_model\n",
    "model_deep = load_model('model/iris_deep.hdf5')"
   ]
  },
  {
   "cell_type": "code",
   "execution_count": 45,
   "metadata": {},
   "outputs": [
    {
     "name": "stdout",
     "output_type": "stream",
     "text": [
      "\r",
      "30/30 [==============================] - 0s 33us/step\n"
     ]
    },
    {
     "data": {
      "text/plain": [
       "0.9666666388511658"
      ]
     },
     "execution_count": 45,
     "metadata": {},
     "output_type": "execute_result"
    }
   ],
   "source": [
    "model.evaluate(x_test, keras.utils.to_categorical(y_test))[1]"
   ]
  },
  {
   "cell_type": "code",
   "execution_count": 52,
   "metadata": {},
   "outputs": [
    {
     "data": {
      "text/plain": [
       "2"
      ]
     },
     "execution_count": 52,
     "metadata": {},
     "output_type": "execute_result"
    }
   ],
   "source": [
    "model_deep.predict_classes(test_data)[0]"
   ]
  },
  {
   "cell_type": "code",
   "execution_count": 46,
   "metadata": {},
   "outputs": [
    {
     "data": {
      "text/plain": [
       "array([[0.00114793, 0.28892222, 0.7099299 ]], dtype=float32)"
      ]
     },
     "execution_count": 46,
     "metadata": {},
     "output_type": "execute_result"
    }
   ],
   "source": [
    "model_deep.predict(test_data)"
   ]
  },
  {
   "cell_type": "code",
   "execution_count": 47,
   "metadata": {},
   "outputs": [
    {
     "data": {
      "text/plain": [
       "2"
      ]
     },
     "execution_count": 47,
     "metadata": {},
     "output_type": "execute_result"
    }
   ],
   "source": [
    "np.argmax(model_deep.predict(test_data)[0])"
   ]
  },
  {
   "cell_type": "code",
   "execution_count": null,
   "metadata": {},
   "outputs": [],
   "source": []
  }
 ],
 "metadata": {
  "kernelspec": {
   "display_name": "Python 3",
   "language": "python",
   "name": "python3"
  },
  "language_info": {
   "codemirror_mode": {
    "name": "ipython",
    "version": 3
   },
   "file_extension": ".py",
   "mimetype": "text/x-python",
   "name": "python",
   "nbconvert_exporter": "python",
   "pygments_lexer": "ipython3",
   "version": "3.7.7"
  }
 },
 "nbformat": 4,
 "nbformat_minor": 4
}
