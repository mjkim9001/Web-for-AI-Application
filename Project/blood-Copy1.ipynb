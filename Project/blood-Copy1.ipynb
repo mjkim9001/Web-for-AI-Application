{
 "cells": [
  {
   "cell_type": "code",
   "execution_count": 1,
   "metadata": {},
   "outputs": [],
   "source": [
    "import numpy as np\n",
    "import pandas as pd\n",
    "import warnings\n",
    "warnings.filterwarnings('ignore')"
   ]
  },
  {
   "cell_type": "code",
   "execution_count": 2,
   "metadata": {},
   "outputs": [],
   "source": [
    "blood = pd.read_csv('data/blood.csv')\n",
    "label = blood['STK']"
   ]
  },
  {
   "cell_type": "code",
   "execution_count": 3,
   "metadata": {},
   "outputs": [],
   "source": [
    "del blood['STK']\n",
    "del blood['SEX']\n",
    "del blood['ANE']\n",
    "del blood['IHD']"
   ]
  },
  {
   "cell_type": "code",
   "execution_count": 4,
   "metadata": {},
   "outputs": [
    {
     "data": {
      "text/html": [
       "<div>\n",
       "<style scoped>\n",
       "    .dataframe tbody tr th:only-of-type {\n",
       "        vertical-align: middle;\n",
       "    }\n",
       "\n",
       "    .dataframe tbody tr th {\n",
       "        vertical-align: top;\n",
       "    }\n",
       "\n",
       "    .dataframe thead th {\n",
       "        text-align: right;\n",
       "    }\n",
       "</style>\n",
       "<table border=\"1\" class=\"dataframe\">\n",
       "  <thead>\n",
       "    <tr style=\"text-align: right;\">\n",
       "      <th></th>\n",
       "      <th>AGE_G</th>\n",
       "      <th>HGB</th>\n",
       "      <th>TCHOL</th>\n",
       "      <th>TG</th>\n",
       "      <th>HDL</th>\n",
       "    </tr>\n",
       "  </thead>\n",
       "  <tbody>\n",
       "    <tr>\n",
       "      <th>0</th>\n",
       "      <td>1</td>\n",
       "      <td>15.5</td>\n",
       "      <td>139</td>\n",
       "      <td>112</td>\n",
       "      <td>54</td>\n",
       "    </tr>\n",
       "    <tr>\n",
       "      <th>1</th>\n",
       "      <td>1</td>\n",
       "      <td>16.2</td>\n",
       "      <td>204</td>\n",
       "      <td>105</td>\n",
       "      <td>55</td>\n",
       "    </tr>\n",
       "    <tr>\n",
       "      <th>2</th>\n",
       "      <td>1</td>\n",
       "      <td>16.4</td>\n",
       "      <td>181</td>\n",
       "      <td>83</td>\n",
       "      <td>67</td>\n",
       "    </tr>\n",
       "    <tr>\n",
       "      <th>3</th>\n",
       "      <td>1</td>\n",
       "      <td>16.1</td>\n",
       "      <td>147</td>\n",
       "      <td>45</td>\n",
       "      <td>56</td>\n",
       "    </tr>\n",
       "    <tr>\n",
       "      <th>4</th>\n",
       "      <td>1</td>\n",
       "      <td>15.3</td>\n",
       "      <td>148</td>\n",
       "      <td>70</td>\n",
       "      <td>57</td>\n",
       "    </tr>\n",
       "  </tbody>\n",
       "</table>\n",
       "</div>"
      ],
      "text/plain": [
       "   AGE_G   HGB  TCHOL   TG  HDL\n",
       "0      1  15.5    139  112   54\n",
       "1      1  16.2    204  105   55\n",
       "2      1  16.4    181   83   67\n",
       "3      1  16.1    147   45   56\n",
       "4      1  15.3    148   70   57"
      ]
     },
     "execution_count": 4,
     "metadata": {},
     "output_type": "execute_result"
    }
   ],
   "source": [
    "blood.head()"
   ]
  },
  {
   "cell_type": "code",
   "execution_count": 5,
   "metadata": {},
   "outputs": [],
   "source": [
    "X = blood.values"
   ]
  },
  {
   "cell_type": "code",
   "execution_count": 6,
   "metadata": {},
   "outputs": [],
   "source": [
    "from sklearn.model_selection import train_test_split\n",
    "x_train, x_test, y_train, y_test = \\\n",
    "    train_test_split(X, label, test_size=0.2, \n",
    "                     shuffle=True, stratify=label, random_state=2019)"
   ]
  },
  {
   "cell_type": "code",
   "execution_count": 7,
   "metadata": {},
   "outputs": [],
   "source": [
    "from sklearn.linear_model import LogisticRegression\n",
    "lr = LogisticRegression()"
   ]
  },
  {
   "cell_type": "code",
   "execution_count": 8,
   "metadata": {},
   "outputs": [
    {
     "data": {
      "text/plain": [
       "LogisticRegression()"
      ]
     },
     "execution_count": 8,
     "metadata": {},
     "output_type": "execute_result"
    }
   ],
   "source": [
    "lr.fit(x_train, y_train)"
   ]
  },
  {
   "cell_type": "code",
   "execution_count": 9,
   "metadata": {
    "scrolled": true
   },
   "outputs": [
    {
     "data": {
      "text/plain": [
       "['model/blood_lr.pkl']"
      ]
     },
     "execution_count": 9,
     "metadata": {},
     "output_type": "execute_result"
    }
   ],
   "source": [
    "import joblib\n",
    "joblib.dump(lr, 'model/blood_lr.pkl')"
   ]
  },
  {
   "cell_type": "markdown",
   "metadata": {},
   "source": [
    "## SVM"
   ]
  },
  {
   "cell_type": "code",
   "execution_count": 10,
   "metadata": {},
   "outputs": [],
   "source": [
    "from sklearn.svm import SVC"
   ]
  },
  {
   "cell_type": "code",
   "execution_count": 11,
   "metadata": {},
   "outputs": [],
   "source": [
    "svc = SVC()"
   ]
  },
  {
   "cell_type": "code",
   "execution_count": 12,
   "metadata": {},
   "outputs": [
    {
     "data": {
      "text/plain": [
       "SVC()"
      ]
     },
     "execution_count": 12,
     "metadata": {},
     "output_type": "execute_result"
    }
   ],
   "source": [
    "svc.fit(x_train, y_train)"
   ]
  },
  {
   "cell_type": "code",
   "execution_count": 13,
   "metadata": {},
   "outputs": [
    {
     "data": {
      "text/plain": [
       "['model/blood_svm.pkl']"
      ]
     },
     "execution_count": 13,
     "metadata": {},
     "output_type": "execute_result"
    }
   ],
   "source": [
    "import joblib\n",
    "joblib.dump(svc, 'model/blood_svm.pkl')"
   ]
  },
  {
   "cell_type": "markdown",
   "metadata": {},
   "source": [
    "## DT"
   ]
  },
  {
   "cell_type": "code",
   "execution_count": 14,
   "metadata": {},
   "outputs": [],
   "source": [
    "from sklearn.tree import DecisionTreeClassifier"
   ]
  },
  {
   "cell_type": "code",
   "execution_count": 15,
   "metadata": {},
   "outputs": [],
   "source": [
    "dtc = DecisionTreeClassifier()"
   ]
  },
  {
   "cell_type": "code",
   "execution_count": 16,
   "metadata": {},
   "outputs": [
    {
     "data": {
      "text/plain": [
       "DecisionTreeClassifier()"
      ]
     },
     "execution_count": 16,
     "metadata": {},
     "output_type": "execute_result"
    }
   ],
   "source": [
    "dtc.fit(x_train, y_train)"
   ]
  },
  {
   "cell_type": "code",
   "execution_count": 17,
   "metadata": {},
   "outputs": [
    {
     "data": {
      "text/plain": [
       "['model/blood_dt.pkl']"
      ]
     },
     "execution_count": 17,
     "metadata": {},
     "output_type": "execute_result"
    }
   ],
   "source": [
    "import joblib\n",
    "joblib.dump(dtc, 'model/blood_dt.pkl')"
   ]
  },
  {
   "cell_type": "markdown",
   "metadata": {},
   "source": [
    "### 저장된 모델로 정확도 산출"
   ]
  },
  {
   "cell_type": "code",
   "execution_count": 57,
   "metadata": {},
   "outputs": [],
   "source": [
    "model_lr = joblib.load('model/blood_lr.pkl')\n",
    "model_svm = joblib.load('model/blood_svm.pkl')\n",
    "model_dt = joblib.load('model/blood_dt.pkl')"
   ]
  },
  {
   "cell_type": "code",
   "execution_count": 58,
   "metadata": {},
   "outputs": [],
   "source": [
    "y_pred_lr = model_lr.predict(x_test)\n",
    "y_pred_svm = model_svm.predict(x_test)\n",
    "y_pred_dt = model_dt.predict(x_test)"
   ]
  },
  {
   "cell_type": "code",
   "execution_count": 60,
   "metadata": {},
   "outputs": [
    {
     "name": "stdout",
     "output_type": "stream",
     "text": [
      "0.93717 0.93717 0.88521\n"
     ]
    }
   ],
   "source": [
    "from sklearn.metrics import accuracy_score\n",
    "acc_lr = accuracy_score(y_test, y_pred_lr)\n",
    "acc_svm = accuracy_score(y_test, y_pred_svm)\n",
    "acc_dt = accuracy_score(y_test, y_pred_dt)\n",
    "print(acc_lr,acc_svm, acc_dt)"
   ]
  },
  {
   "cell_type": "code",
   "execution_count": 61,
   "metadata": {},
   "outputs": [
    {
     "data": {
      "text/html": [
       "<div>\n",
       "<style scoped>\n",
       "    .dataframe tbody tr th:only-of-type {\n",
       "        vertical-align: middle;\n",
       "    }\n",
       "\n",
       "    .dataframe tbody tr th {\n",
       "        vertical-align: top;\n",
       "    }\n",
       "\n",
       "    .dataframe thead th {\n",
       "        text-align: right;\n",
       "    }\n",
       "</style>\n",
       "<table border=\"1\" class=\"dataframe\">\n",
       "  <thead>\n",
       "    <tr style=\"text-align: right;\">\n",
       "      <th></th>\n",
       "      <th>AGE_G</th>\n",
       "      <th>HGB</th>\n",
       "      <th>TCHOL</th>\n",
       "      <th>TG</th>\n",
       "      <th>HDL</th>\n",
       "    </tr>\n",
       "  </thead>\n",
       "  <tbody>\n",
       "    <tr>\n",
       "      <th>999995</th>\n",
       "      <td>27</td>\n",
       "      <td>12.0</td>\n",
       "      <td>166</td>\n",
       "      <td>159</td>\n",
       "      <td>49</td>\n",
       "    </tr>\n",
       "    <tr>\n",
       "      <th>999996</th>\n",
       "      <td>27</td>\n",
       "      <td>12.0</td>\n",
       "      <td>164</td>\n",
       "      <td>376</td>\n",
       "      <td>42</td>\n",
       "    </tr>\n",
       "    <tr>\n",
       "      <th>999997</th>\n",
       "      <td>27</td>\n",
       "      <td>10.9</td>\n",
       "      <td>191</td>\n",
       "      <td>85</td>\n",
       "      <td>53</td>\n",
       "    </tr>\n",
       "    <tr>\n",
       "      <th>999998</th>\n",
       "      <td>27</td>\n",
       "      <td>13.5</td>\n",
       "      <td>197</td>\n",
       "      <td>81</td>\n",
       "      <td>51</td>\n",
       "    </tr>\n",
       "    <tr>\n",
       "      <th>999999</th>\n",
       "      <td>27</td>\n",
       "      <td>13.0</td>\n",
       "      <td>248</td>\n",
       "      <td>142</td>\n",
       "      <td>29</td>\n",
       "    </tr>\n",
       "  </tbody>\n",
       "</table>\n",
       "</div>"
      ],
      "text/plain": [
       "        AGE_G   HGB  TCHOL   TG  HDL\n",
       "999995     27  12.0    166  159   49\n",
       "999996     27  12.0    164  376   42\n",
       "999997     27  10.9    191   85   53\n",
       "999998     27  13.5    197   81   51\n",
       "999999     27  13.0    248  142   29"
      ]
     },
     "execution_count": 61,
     "metadata": {},
     "output_type": "execute_result"
    }
   ],
   "source": [
    "blood.tail()"
   ]
  },
  {
   "cell_type": "code",
   "execution_count": 62,
   "metadata": {},
   "outputs": [],
   "source": [
    "test_data = np.array([18, 14.5, 228, 93, 57]).reshape(1, 5)"
   ]
  },
  {
   "cell_type": "code",
   "execution_count": 63,
   "metadata": {},
   "outputs": [],
   "source": [
    "index_lr = model_lr.predict(test_data)[0]\n",
    "index_svm = model_svm.predict(test_data)[0]\n",
    "index_dt = model_dt.predict(test_data)[0]"
   ]
  },
  {
   "cell_type": "code",
   "execution_count": 64,
   "metadata": {
    "scrolled": true
   },
   "outputs": [
    {
     "data": {
      "text/plain": [
       "0"
      ]
     },
     "execution_count": 64,
     "metadata": {},
     "output_type": "execute_result"
    }
   ],
   "source": [
    "index_lr"
   ]
  },
  {
   "cell_type": "code",
   "execution_count": 67,
   "metadata": {},
   "outputs": [
    {
     "data": {
      "text/plain": [
       "0"
      ]
     },
     "execution_count": 67,
     "metadata": {},
     "output_type": "execute_result"
    }
   ],
   "source": [
    "index_svm"
   ]
  },
  {
   "cell_type": "code",
   "execution_count": 65,
   "metadata": {},
   "outputs": [
    {
     "data": {
      "text/plain": [
       "1"
      ]
     },
     "execution_count": 65,
     "metadata": {},
     "output_type": "execute_result"
    }
   ],
   "source": [
    "index_dt"
   ]
  },
  {
   "cell_type": "code",
   "execution_count": 68,
   "metadata": {},
   "outputs": [
    {
     "name": "stdout",
     "output_type": "stream",
     "text": [
      "NO NO 뇌질환\n"
     ]
    }
   ],
   "source": [
    "sp_names = ['NO', '뇌질환']\n",
    "print(sp_names[index_lr],sp_names[index_svm], sp_names[index_dt])"
   ]
  },
  {
   "cell_type": "markdown",
   "metadata": {},
   "source": [
    "## Deep Learning"
   ]
  },
  {
   "cell_type": "code",
   "execution_count": 36,
   "metadata": {},
   "outputs": [],
   "source": [
    "# 딥러닝 모델 설정\n",
    "from tensorflow import keras\n",
    "from keras.models import Sequential\n",
    "from keras.layers import Dense\n",
    "\n",
    "model = Sequential([\n",
    "    Dense(24, input_shape=(5,), activation='relu'),\n",
    "    Dense(12, activation='relu'),\n",
    "    Dense(1, activation='softmax')\n",
    "])"
   ]
  },
  {
   "cell_type": "code",
   "execution_count": 37,
   "metadata": {},
   "outputs": [],
   "source": [
    "# 모델 컴파일\n",
    "model.compile(loss='binary_crossentropy',\n",
    "             optimizer='adam',\n",
    "             metrics = ['accuracy'])"
   ]
  },
  {
   "cell_type": "code",
   "execution_count": 38,
   "metadata": {},
   "outputs": [],
   "source": [
    "from keras.callbacks import ModelCheckpoint\n",
    "checkpointer = ModelCheckpoint(filepath = 'model/blood_deep.hdf5',\n",
    "                            monitor ='val_loss',\n",
    "                            verbose = 1, save_best_only=True)"
   ]
  },
  {
   "cell_type": "code",
   "execution_count": 39,
   "metadata": {},
   "outputs": [
    {
     "name": "stdout",
     "output_type": "stream",
     "text": [
      "Train on 640000 samples, validate on 160000 samples\n",
      "Epoch 1/100\n",
      " - 17s - loss: 14.3694 - accuracy: 0.0629 - val_loss: 14.3720 - val_accuracy: 0.0627\n",
      "\n",
      "Epoch 00001: val_loss improved from inf to 14.37204, saving model to model/blood_deep.hdf5\n",
      "Epoch 2/100\n",
      " - 16s - loss: 14.3694 - accuracy: 0.0629 - val_loss: 14.3720 - val_accuracy: 0.0627\n",
      "\n",
      "Epoch 00002: val_loss did not improve from 14.37204\n",
      "Epoch 3/100\n",
      " - 17s - loss: 14.3694 - accuracy: 0.0629 - val_loss: 14.3720 - val_accuracy: 0.0627\n",
      "\n",
      "Epoch 00003: val_loss did not improve from 14.37204\n",
      "Epoch 4/100\n",
      " - 16s - loss: 14.3694 - accuracy: 0.0629 - val_loss: 14.3720 - val_accuracy: 0.0627\n",
      "\n",
      "Epoch 00004: val_loss did not improve from 14.37204\n",
      "Epoch 5/100\n",
      " - 16s - loss: 14.3694 - accuracy: 0.0629 - val_loss: 14.3720 - val_accuracy: 0.0627\n",
      "\n",
      "Epoch 00005: val_loss did not improve from 14.37204\n",
      "Epoch 6/100\n",
      " - 16s - loss: 14.3694 - accuracy: 0.0629 - val_loss: 14.3720 - val_accuracy: 0.0627\n",
      "\n",
      "Epoch 00006: val_loss did not improve from 14.37204\n",
      "Epoch 7/100\n",
      " - 16s - loss: 14.3694 - accuracy: 0.0629 - val_loss: 14.3720 - val_accuracy: 0.0627\n",
      "\n",
      "Epoch 00007: val_loss did not improve from 14.37204\n",
      "Epoch 8/100\n",
      " - 16s - loss: 14.3694 - accuracy: 0.0629 - val_loss: 14.3720 - val_accuracy: 0.0627\n",
      "\n",
      "Epoch 00008: val_loss did not improve from 14.37204\n",
      "Epoch 9/100\n",
      " - 16s - loss: 14.3694 - accuracy: 0.0629 - val_loss: 14.3720 - val_accuracy: 0.0627\n",
      "\n",
      "Epoch 00009: val_loss did not improve from 14.37204\n",
      "Epoch 10/100\n",
      " - 16s - loss: 14.3694 - accuracy: 0.0629 - val_loss: 14.3720 - val_accuracy: 0.0627\n",
      "\n",
      "Epoch 00010: val_loss did not improve from 14.37204\n",
      "Epoch 11/100\n",
      " - 16s - loss: 14.3694 - accuracy: 0.0629 - val_loss: 14.3720 - val_accuracy: 0.0627\n",
      "\n",
      "Epoch 00011: val_loss did not improve from 14.37204\n",
      "Epoch 12/100\n",
      " - 16s - loss: 14.3694 - accuracy: 0.0629 - val_loss: 14.3720 - val_accuracy: 0.0627\n",
      "\n",
      "Epoch 00012: val_loss did not improve from 14.37204\n",
      "Epoch 13/100\n",
      " - 16s - loss: 14.3694 - accuracy: 0.0629 - val_loss: 14.3720 - val_accuracy: 0.0627\n",
      "\n",
      "Epoch 00013: val_loss did not improve from 14.37204\n",
      "Epoch 14/100\n",
      " - 16s - loss: 14.3694 - accuracy: 0.0629 - val_loss: 14.3720 - val_accuracy: 0.0627\n",
      "\n",
      "Epoch 00014: val_loss did not improve from 14.37204\n",
      "Epoch 15/100\n",
      " - 16s - loss: 14.3694 - accuracy: 0.0629 - val_loss: 14.3720 - val_accuracy: 0.0627\n",
      "\n",
      "Epoch 00015: val_loss did not improve from 14.37204\n",
      "Epoch 16/100\n",
      " - 16s - loss: 14.3694 - accuracy: 0.0629 - val_loss: 14.3720 - val_accuracy: 0.0627\n",
      "\n",
      "Epoch 00016: val_loss did not improve from 14.37204\n",
      "Epoch 17/100\n",
      " - 16s - loss: 14.3694 - accuracy: 0.0629 - val_loss: 14.3720 - val_accuracy: 0.0627\n",
      "\n",
      "Epoch 00017: val_loss did not improve from 14.37204\n",
      "Epoch 18/100\n",
      " - 17s - loss: 14.3694 - accuracy: 0.0629 - val_loss: 14.3720 - val_accuracy: 0.0627\n",
      "\n",
      "Epoch 00018: val_loss did not improve from 14.37204\n",
      "Epoch 19/100\n",
      " - 18s - loss: 14.3694 - accuracy: 0.0629 - val_loss: 14.3720 - val_accuracy: 0.0627\n",
      "\n",
      "Epoch 00019: val_loss did not improve from 14.37204\n",
      "Epoch 20/100\n",
      " - 17s - loss: 14.3694 - accuracy: 0.0629 - val_loss: 14.3720 - val_accuracy: 0.0627\n",
      "\n",
      "Epoch 00020: val_loss did not improve from 14.37204\n",
      "Epoch 21/100\n",
      " - 16s - loss: 14.3694 - accuracy: 0.0629 - val_loss: 14.3720 - val_accuracy: 0.0627\n",
      "\n",
      "Epoch 00021: val_loss did not improve from 14.37204\n",
      "Epoch 22/100\n",
      " - 16s - loss: 14.3694 - accuracy: 0.0629 - val_loss: 14.3720 - val_accuracy: 0.0627\n",
      "\n",
      "Epoch 00022: val_loss did not improve from 14.37204\n",
      "Epoch 23/100\n",
      " - 16s - loss: 14.3694 - accuracy: 0.0629 - val_loss: 14.3720 - val_accuracy: 0.0627\n",
      "\n",
      "Epoch 00023: val_loss did not improve from 14.37204\n",
      "Epoch 24/100\n",
      " - 17s - loss: 14.3694 - accuracy: 0.0629 - val_loss: 14.3720 - val_accuracy: 0.0627\n",
      "\n",
      "Epoch 00024: val_loss did not improve from 14.37204\n",
      "Epoch 25/100\n",
      " - 17s - loss: 14.3694 - accuracy: 0.0629 - val_loss: 14.3720 - val_accuracy: 0.0627\n",
      "\n",
      "Epoch 00025: val_loss did not improve from 14.37204\n",
      "Epoch 26/100\n",
      " - 17s - loss: 14.3694 - accuracy: 0.0629 - val_loss: 14.3720 - val_accuracy: 0.0627\n",
      "\n",
      "Epoch 00026: val_loss did not improve from 14.37204\n",
      "Epoch 27/100\n",
      " - 17s - loss: 14.3694 - accuracy: 0.0629 - val_loss: 14.3720 - val_accuracy: 0.0627\n",
      "\n",
      "Epoch 00027: val_loss did not improve from 14.37204\n",
      "Epoch 28/100\n",
      " - 17s - loss: 14.3694 - accuracy: 0.0629 - val_loss: 14.3720 - val_accuracy: 0.0627\n",
      "\n",
      "Epoch 00028: val_loss did not improve from 14.37204\n",
      "Epoch 29/100\n",
      " - 16s - loss: 14.3694 - accuracy: 0.0629 - val_loss: 14.3720 - val_accuracy: 0.0627\n",
      "\n",
      "Epoch 00029: val_loss did not improve from 14.37204\n",
      "Epoch 30/100\n",
      " - 17s - loss: 14.3694 - accuracy: 0.0629 - val_loss: 14.3720 - val_accuracy: 0.0627\n",
      "\n",
      "Epoch 00030: val_loss did not improve from 14.37204\n",
      "Epoch 31/100\n",
      " - 17s - loss: 14.3694 - accuracy: 0.0629 - val_loss: 14.3720 - val_accuracy: 0.0627\n",
      "\n",
      "Epoch 00031: val_loss did not improve from 14.37204\n",
      "Epoch 32/100\n",
      " - 16s - loss: 14.3694 - accuracy: 0.0629 - val_loss: 14.3720 - val_accuracy: 0.0627\n",
      "\n",
      "Epoch 00032: val_loss did not improve from 14.37204\n",
      "Epoch 33/100\n",
      " - 16s - loss: 14.3694 - accuracy: 0.0629 - val_loss: 14.3720 - val_accuracy: 0.0627\n",
      "\n",
      "Epoch 00033: val_loss did not improve from 14.37204\n",
      "Epoch 34/100\n",
      " - 17s - loss: 14.3694 - accuracy: 0.0629 - val_loss: 14.3720 - val_accuracy: 0.0627\n",
      "\n",
      "Epoch 00034: val_loss did not improve from 14.37204\n",
      "Epoch 35/100\n",
      " - 17s - loss: 14.3694 - accuracy: 0.0629 - val_loss: 14.3720 - val_accuracy: 0.0627\n",
      "\n",
      "Epoch 00035: val_loss did not improve from 14.37204\n",
      "Epoch 36/100\n",
      " - 17s - loss: 14.3694 - accuracy: 0.0629 - val_loss: 14.3720 - val_accuracy: 0.0627\n",
      "\n",
      "Epoch 00036: val_loss did not improve from 14.37204\n",
      "Epoch 37/100\n",
      " - 17s - loss: 14.3694 - accuracy: 0.0629 - val_loss: 14.3720 - val_accuracy: 0.0627\n",
      "\n",
      "Epoch 00037: val_loss did not improve from 14.37204\n",
      "Epoch 38/100\n",
      " - 16s - loss: 14.3694 - accuracy: 0.0629 - val_loss: 14.3720 - val_accuracy: 0.0627\n",
      "\n",
      "Epoch 00038: val_loss did not improve from 14.37204\n",
      "Epoch 39/100\n",
      " - 16s - loss: 14.3694 - accuracy: 0.0629 - val_loss: 14.3720 - val_accuracy: 0.0627\n",
      "\n",
      "Epoch 00039: val_loss did not improve from 14.37204\n",
      "Epoch 40/100\n",
      " - 16s - loss: 14.3694 - accuracy: 0.0629 - val_loss: 14.3720 - val_accuracy: 0.0627\n",
      "\n",
      "Epoch 00040: val_loss did not improve from 14.37204\n",
      "Epoch 41/100\n",
      " - 16s - loss: 14.3694 - accuracy: 0.0629 - val_loss: 14.3720 - val_accuracy: 0.0627\n",
      "\n",
      "Epoch 00041: val_loss did not improve from 14.37204\n",
      "Epoch 42/100\n",
      " - 17s - loss: 14.3694 - accuracy: 0.0629 - val_loss: 14.3720 - val_accuracy: 0.0627\n",
      "\n",
      "Epoch 00042: val_loss did not improve from 14.37204\n",
      "Epoch 43/100\n",
      " - 17s - loss: 14.3694 - accuracy: 0.0629 - val_loss: 14.3720 - val_accuracy: 0.0627\n",
      "\n",
      "Epoch 00043: val_loss did not improve from 14.37204\n",
      "Epoch 44/100\n",
      " - 17s - loss: 14.3694 - accuracy: 0.0629 - val_loss: 14.3720 - val_accuracy: 0.0627\n",
      "\n",
      "Epoch 00044: val_loss did not improve from 14.37204\n",
      "Epoch 45/100\n",
      " - 17s - loss: 14.3694 - accuracy: 0.0629 - val_loss: 14.3720 - val_accuracy: 0.0627\n",
      "\n",
      "Epoch 00045: val_loss did not improve from 14.37204\n",
      "Epoch 46/100\n",
      " - 16s - loss: 14.3694 - accuracy: 0.0629 - val_loss: 14.3720 - val_accuracy: 0.0627\n",
      "\n",
      "Epoch 00046: val_loss did not improve from 14.37204\n",
      "Epoch 47/100\n",
      " - 16s - loss: 14.3694 - accuracy: 0.0629 - val_loss: 14.3720 - val_accuracy: 0.0627\n",
      "\n",
      "Epoch 00047: val_loss did not improve from 14.37204\n",
      "Epoch 48/100\n",
      " - 16s - loss: 14.3694 - accuracy: 0.0629 - val_loss: 14.3720 - val_accuracy: 0.0627\n",
      "\n",
      "Epoch 00048: val_loss did not improve from 14.37204\n",
      "Epoch 49/100\n",
      " - 16s - loss: 14.3694 - accuracy: 0.0629 - val_loss: 14.3720 - val_accuracy: 0.0627\n",
      "\n",
      "Epoch 00049: val_loss did not improve from 14.37204\n",
      "Epoch 50/100\n",
      " - 16s - loss: 14.3694 - accuracy: 0.0629 - val_loss: 14.3720 - val_accuracy: 0.0627\n",
      "\n",
      "Epoch 00050: val_loss did not improve from 14.37204\n",
      "Epoch 51/100\n",
      " - 16s - loss: 14.3694 - accuracy: 0.0629 - val_loss: 14.3720 - val_accuracy: 0.0627\n",
      "\n",
      "Epoch 00051: val_loss did not improve from 14.37204\n",
      "Epoch 52/100\n",
      " - 16s - loss: 14.3694 - accuracy: 0.0629 - val_loss: 14.3720 - val_accuracy: 0.0627\n",
      "\n",
      "Epoch 00052: val_loss did not improve from 14.37204\n",
      "Epoch 53/100\n",
      " - 16s - loss: 14.3694 - accuracy: 0.0629 - val_loss: 14.3720 - val_accuracy: 0.0627\n",
      "\n",
      "Epoch 00053: val_loss did not improve from 14.37204\n",
      "Epoch 54/100\n",
      " - 16s - loss: 14.3694 - accuracy: 0.0629 - val_loss: 14.3720 - val_accuracy: 0.0627\n",
      "\n",
      "Epoch 00054: val_loss did not improve from 14.37204\n",
      "Epoch 55/100\n"
     ]
    },
    {
     "name": "stdout",
     "output_type": "stream",
     "text": [
      " - 17s - loss: 14.3694 - accuracy: 0.0629 - val_loss: 14.3720 - val_accuracy: 0.0627\n",
      "\n",
      "Epoch 00055: val_loss did not improve from 14.37204\n",
      "Epoch 56/100\n",
      " - 17s - loss: 14.3694 - accuracy: 0.0629 - val_loss: 14.3720 - val_accuracy: 0.0627\n",
      "\n",
      "Epoch 00056: val_loss did not improve from 14.37204\n",
      "Epoch 57/100\n",
      " - 17s - loss: 14.3694 - accuracy: 0.0629 - val_loss: 14.3720 - val_accuracy: 0.0627\n",
      "\n",
      "Epoch 00057: val_loss did not improve from 14.37204\n",
      "Epoch 58/100\n",
      " - 17s - loss: 14.3694 - accuracy: 0.0629 - val_loss: 14.3720 - val_accuracy: 0.0627\n",
      "\n",
      "Epoch 00058: val_loss did not improve from 14.37204\n",
      "Epoch 59/100\n",
      " - 17s - loss: 14.3694 - accuracy: 0.0629 - val_loss: 14.3720 - val_accuracy: 0.0627\n",
      "\n",
      "Epoch 00059: val_loss did not improve from 14.37204\n",
      "Epoch 60/100\n",
      " - 17s - loss: 14.3694 - accuracy: 0.0629 - val_loss: 14.3720 - val_accuracy: 0.0627\n",
      "\n",
      "Epoch 00060: val_loss did not improve from 14.37204\n",
      "Epoch 61/100\n",
      " - 17s - loss: 14.3694 - accuracy: 0.0629 - val_loss: 14.3720 - val_accuracy: 0.0627\n",
      "\n",
      "Epoch 00061: val_loss did not improve from 14.37204\n",
      "Epoch 62/100\n",
      " - 17s - loss: 14.3694 - accuracy: 0.0629 - val_loss: 14.3720 - val_accuracy: 0.0627\n",
      "\n",
      "Epoch 00062: val_loss did not improve from 14.37204\n",
      "Epoch 63/100\n",
      " - 17s - loss: 14.3694 - accuracy: 0.0629 - val_loss: 14.3720 - val_accuracy: 0.0627\n",
      "\n",
      "Epoch 00063: val_loss did not improve from 14.37204\n",
      "Epoch 64/100\n",
      " - 17s - loss: 14.3694 - accuracy: 0.0629 - val_loss: 14.3720 - val_accuracy: 0.0627\n",
      "\n",
      "Epoch 00064: val_loss did not improve from 14.37204\n",
      "Epoch 65/100\n",
      " - 17s - loss: 14.3694 - accuracy: 0.0629 - val_loss: 14.3720 - val_accuracy: 0.0627\n",
      "\n",
      "Epoch 00065: val_loss did not improve from 14.37204\n",
      "Epoch 66/100\n",
      " - 17s - loss: 14.3694 - accuracy: 0.0629 - val_loss: 14.3720 - val_accuracy: 0.0627\n",
      "\n",
      "Epoch 00066: val_loss did not improve from 14.37204\n",
      "Epoch 67/100\n",
      " - 17s - loss: 14.3694 - accuracy: 0.0629 - val_loss: 14.3720 - val_accuracy: 0.0627\n",
      "\n",
      "Epoch 00067: val_loss did not improve from 14.37204\n",
      "Epoch 68/100\n",
      " - 17s - loss: 14.3694 - accuracy: 0.0629 - val_loss: 14.3720 - val_accuracy: 0.0627\n",
      "\n",
      "Epoch 00068: val_loss did not improve from 14.37204\n",
      "Epoch 69/100\n",
      " - 17s - loss: 14.3694 - accuracy: 0.0629 - val_loss: 14.3720 - val_accuracy: 0.0627\n",
      "\n",
      "Epoch 00069: val_loss did not improve from 14.37204\n",
      "Epoch 70/100\n",
      " - 17s - loss: 14.3694 - accuracy: 0.0629 - val_loss: 14.3720 - val_accuracy: 0.0627\n",
      "\n",
      "Epoch 00070: val_loss did not improve from 14.37204\n",
      "Epoch 71/100\n",
      " - 17s - loss: 14.3694 - accuracy: 0.0629 - val_loss: 14.3720 - val_accuracy: 0.0627\n",
      "\n",
      "Epoch 00071: val_loss did not improve from 14.37204\n",
      "Epoch 72/100\n",
      " - 17s - loss: 14.3694 - accuracy: 0.0629 - val_loss: 14.3720 - val_accuracy: 0.0627\n",
      "\n",
      "Epoch 00072: val_loss did not improve from 14.37204\n",
      "Epoch 73/100\n",
      " - 17s - loss: 14.3694 - accuracy: 0.0629 - val_loss: 14.3720 - val_accuracy: 0.0627\n",
      "\n",
      "Epoch 00073: val_loss did not improve from 14.37204\n",
      "Epoch 74/100\n",
      " - 16s - loss: 14.3694 - accuracy: 0.0629 - val_loss: 14.3720 - val_accuracy: 0.0627\n",
      "\n",
      "Epoch 00074: val_loss did not improve from 14.37204\n",
      "Epoch 75/100\n",
      " - 17s - loss: 14.3694 - accuracy: 0.0629 - val_loss: 14.3720 - val_accuracy: 0.0627\n",
      "\n",
      "Epoch 00075: val_loss did not improve from 14.37204\n",
      "Epoch 76/100\n",
      " - 17s - loss: 14.3694 - accuracy: 0.0629 - val_loss: 14.3720 - val_accuracy: 0.0627\n",
      "\n",
      "Epoch 00076: val_loss did not improve from 14.37204\n",
      "Epoch 77/100\n",
      " - 17s - loss: 14.3694 - accuracy: 0.0629 - val_loss: 14.3720 - val_accuracy: 0.0627\n",
      "\n",
      "Epoch 00077: val_loss did not improve from 14.37204\n",
      "Epoch 78/100\n",
      " - 17s - loss: 14.3694 - accuracy: 0.0629 - val_loss: 14.3720 - val_accuracy: 0.0627\n",
      "\n",
      "Epoch 00078: val_loss did not improve from 14.37204\n",
      "Epoch 79/100\n",
      " - 17s - loss: 14.3694 - accuracy: 0.0629 - val_loss: 14.3720 - val_accuracy: 0.0627\n",
      "\n",
      "Epoch 00079: val_loss did not improve from 14.37204\n",
      "Epoch 80/100\n",
      " - 17s - loss: 14.3694 - accuracy: 0.0629 - val_loss: 14.3720 - val_accuracy: 0.0627\n",
      "\n",
      "Epoch 00080: val_loss did not improve from 14.37204\n",
      "Epoch 81/100\n",
      " - 17s - loss: 14.3694 - accuracy: 0.0629 - val_loss: 14.3720 - val_accuracy: 0.0627\n",
      "\n",
      "Epoch 00081: val_loss did not improve from 14.37204\n",
      "Epoch 82/100\n",
      " - 17s - loss: 14.3694 - accuracy: 0.0629 - val_loss: 14.3720 - val_accuracy: 0.0627\n",
      "\n",
      "Epoch 00082: val_loss did not improve from 14.37204\n",
      "Epoch 83/100\n",
      " - 17s - loss: 14.3694 - accuracy: 0.0629 - val_loss: 14.3720 - val_accuracy: 0.0627\n",
      "\n",
      "Epoch 00083: val_loss did not improve from 14.37204\n",
      "Epoch 84/100\n",
      " - 17s - loss: 14.3694 - accuracy: 0.0629 - val_loss: 14.3720 - val_accuracy: 0.0627\n",
      "\n",
      "Epoch 00084: val_loss did not improve from 14.37204\n",
      "Epoch 85/100\n",
      " - 17s - loss: 14.3694 - accuracy: 0.0629 - val_loss: 14.3720 - val_accuracy: 0.0627\n",
      "\n",
      "Epoch 00085: val_loss did not improve from 14.37204\n",
      "Epoch 86/100\n",
      " - 17s - loss: 14.3694 - accuracy: 0.0629 - val_loss: 14.3720 - val_accuracy: 0.0627\n",
      "\n",
      "Epoch 00086: val_loss did not improve from 14.37204\n",
      "Epoch 87/100\n",
      " - 17s - loss: 14.3694 - accuracy: 0.0629 - val_loss: 14.3720 - val_accuracy: 0.0627\n",
      "\n",
      "Epoch 00087: val_loss did not improve from 14.37204\n",
      "Epoch 88/100\n",
      " - 17s - loss: 14.3694 - accuracy: 0.0629 - val_loss: 14.3720 - val_accuracy: 0.0627\n",
      "\n",
      "Epoch 00088: val_loss did not improve from 14.37204\n",
      "Epoch 89/100\n",
      " - 17s - loss: 14.3694 - accuracy: 0.0629 - val_loss: 14.3720 - val_accuracy: 0.0627\n",
      "\n",
      "Epoch 00089: val_loss did not improve from 14.37204\n",
      "Epoch 90/100\n",
      " - 17s - loss: 14.3694 - accuracy: 0.0629 - val_loss: 14.3720 - val_accuracy: 0.0627\n",
      "\n",
      "Epoch 00090: val_loss did not improve from 14.37204\n",
      "Epoch 91/100\n",
      " - 17s - loss: 14.3694 - accuracy: 0.0629 - val_loss: 14.3720 - val_accuracy: 0.0627\n",
      "\n",
      "Epoch 00091: val_loss did not improve from 14.37204\n",
      "Epoch 92/100\n",
      " - 17s - loss: 14.3694 - accuracy: 0.0629 - val_loss: 14.3720 - val_accuracy: 0.0627\n",
      "\n",
      "Epoch 00092: val_loss did not improve from 14.37204\n",
      "Epoch 93/100\n",
      " - 17s - loss: 14.3694 - accuracy: 0.0629 - val_loss: 14.3720 - val_accuracy: 0.0627\n",
      "\n",
      "Epoch 00093: val_loss did not improve from 14.37204\n",
      "Epoch 94/100\n",
      " - 17s - loss: 14.3694 - accuracy: 0.0629 - val_loss: 14.3720 - val_accuracy: 0.0627\n",
      "\n",
      "Epoch 00094: val_loss did not improve from 14.37204\n",
      "Epoch 95/100\n",
      " - 16s - loss: 14.3694 - accuracy: 0.0629 - val_loss: 14.3720 - val_accuracy: 0.0627\n",
      "\n",
      "Epoch 00095: val_loss did not improve from 14.37204\n",
      "Epoch 96/100\n",
      " - 17s - loss: 14.3694 - accuracy: 0.0629 - val_loss: 14.3720 - val_accuracy: 0.0627\n",
      "\n",
      "Epoch 00096: val_loss did not improve from 14.37204\n",
      "Epoch 97/100\n",
      " - 17s - loss: 14.3694 - accuracy: 0.0629 - val_loss: 14.3720 - val_accuracy: 0.0627\n",
      "\n",
      "Epoch 00097: val_loss did not improve from 14.37204\n",
      "Epoch 98/100\n",
      " - 17s - loss: 14.3694 - accuracy: 0.0629 - val_loss: 14.3720 - val_accuracy: 0.0627\n",
      "\n",
      "Epoch 00098: val_loss did not improve from 14.37204\n",
      "Epoch 99/100\n",
      " - 17s - loss: 14.3694 - accuracy: 0.0629 - val_loss: 14.3720 - val_accuracy: 0.0627\n",
      "\n",
      "Epoch 00099: val_loss did not improve from 14.37204\n",
      "Epoch 100/100\n",
      " - 17s - loss: 14.3694 - accuracy: 0.0629 - val_loss: 14.3720 - val_accuracy: 0.0627\n",
      "\n",
      "Epoch 00100: val_loss did not improve from 14.37204\n"
     ]
    },
    {
     "data": {
      "text/plain": [
       "<keras.callbacks.callbacks.History at 0x2f4963cea08>"
      ]
     },
     "execution_count": 39,
     "metadata": {},
     "output_type": "execute_result"
    }
   ],
   "source": [
    "# 모델 생성\n",
    "model.fit(x_train, y_train, epochs=100,batch_size=30, verbose=2,\n",
    "         validation_split=0.2, callbacks=[checkpointer])"
   ]
  },
  {
   "cell_type": "code",
   "execution_count": 40,
   "metadata": {},
   "outputs": [],
   "source": [
    "from keras.models import load_model\n",
    "model_deep = load_model('model/blood_deep.hdf5')"
   ]
  },
  {
   "cell_type": "code",
   "execution_count": 42,
   "metadata": {},
   "outputs": [
    {
     "name": "stdout",
     "output_type": "stream",
     "text": [
      "200000/200000 [==============================] - 1s 7us/step\n"
     ]
    },
    {
     "data": {
      "text/plain": [
       "0.06283000111579895"
      ]
     },
     "execution_count": 42,
     "metadata": {},
     "output_type": "execute_result"
    }
   ],
   "source": [
    "model.evaluate(x_test, y_test)[1]"
   ]
  },
  {
   "cell_type": "code",
   "execution_count": 74,
   "metadata": {},
   "outputs": [
    {
     "data": {
      "text/plain": [
       "1"
      ]
     },
     "execution_count": 74,
     "metadata": {},
     "output_type": "execute_result"
    }
   ],
   "source": [
    "model_deep.predict_classes(test_data)[0][0]"
   ]
  },
  {
   "cell_type": "code",
   "execution_count": 72,
   "metadata": {},
   "outputs": [
    {
     "data": {
      "text/plain": [
       "array([[1.]], dtype=float32)"
      ]
     },
     "execution_count": 72,
     "metadata": {},
     "output_type": "execute_result"
    }
   ],
   "source": [
    "model_deep.predict(test_data)"
   ]
  },
  {
   "cell_type": "code",
   "execution_count": 73,
   "metadata": {},
   "outputs": [
    {
     "data": {
      "text/plain": [
       "0"
      ]
     },
     "execution_count": 73,
     "metadata": {},
     "output_type": "execute_result"
    }
   ],
   "source": [
    "np.argmax(model_deep.predict(test_data)[0])"
   ]
  },
  {
   "cell_type": "code",
   "execution_count": null,
   "metadata": {},
   "outputs": [],
   "source": [
    "model_deep"
   ]
  }
 ],
 "metadata": {
  "kernelspec": {
   "display_name": "Python 3",
   "language": "python",
   "name": "python3"
  },
  "language_info": {
   "codemirror_mode": {
    "name": "ipython",
    "version": 3
   },
   "file_extension": ".py",
   "mimetype": "text/x-python",
   "name": "python",
   "nbconvert_exporter": "python",
   "pygments_lexer": "ipython3",
   "version": "3.7.7"
  }
 },
 "nbformat": 4,
 "nbformat_minor": 4
}
